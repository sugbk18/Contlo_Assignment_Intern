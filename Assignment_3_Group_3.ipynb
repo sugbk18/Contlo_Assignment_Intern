{
  "nbformat": 4,
  "nbformat_minor": 0,
  "metadata": {
    "colab": {
      "provenance": []
    },
    "kernelspec": {
      "name": "python3",
      "display_name": "Python 3"
    },
    "language_info": {
      "name": "python"
    }
  },
  "cells": [
    {
      "cell_type": "code",
      "execution_count": null,
      "metadata": {
        "id": "J2retskOXz_y"
      },
      "outputs": [],
      "source": []
    },
    {
      "cell_type": "markdown",
      "source": [
        "## Importing necessary Libraries and Loading the Data"
      ],
      "metadata": {
        "id": "1_7T-dLSZTyC"
      }
    },
    {
      "cell_type": "code",
      "source": [],
      "metadata": {
        "id": "J2d3fOiubeBX"
      },
      "execution_count": null,
      "outputs": []
    },
    {
      "cell_type": "code",
      "source": [
        "import torch\n",
        "import torch.nn as nn\n",
        "import torch.optim as optim\n",
        "from sklearn.model_selection import train_test_split\n",
        "from sklearn.preprocessing import StandardScaler\n",
        "import pandas as pd\n",
        "import numpy as np\n",
        "\n",
        "# Load the data\n",
        "data = pd.read_excel(r'/content/drive/MyDrive/Colab Notebooks/ANN_Assignment_3.xlsx')"
      ],
      "metadata": {
        "id": "zsHECMKzZSev"
      },
      "execution_count": 4,
      "outputs": []
    },
    {
      "cell_type": "code",
      "source": [
        "\n",
        "# Extract input parameters (X1-X35) and output quality measurements (R-MF, Q-MF)\n",
        "X = data.iloc[:, 1:36].values\n",
        "R_MF = data.iloc[:, 18].values  # Assuming R-MF is in the 19th column\n",
        "Q_MF = data.iloc[:, -2].values  # Assuming Q-MF is the second-to-last column\n",
        "\n",
        "# Data preprocessing\n",
        "scaler_X = StandardScaler()\n",
        "X_scaled = scaler_X.fit_transform(X)\n",
        "\n",
        "scaler_R_MF = StandardScaler()\n",
        "R_MF_scaled = scaler_R_MF.fit_transform(R_MF.reshape(-1, 1))\n",
        "\n",
        "scaler_Q_MF = StandardScaler()\n",
        "Q_MF_scaled = scaler_Q_MF.fit_transform(Q_MF.reshape(-1, 1))\n",
        "\n",
        "# Split the data into training and testing sets\n",
        "X_train, X_test, R_MF_train, R_MF_test, Q_MF_train, Q_MF_test = train_test_split(\n",
        "    X_scaled, R_MF_scaled, Q_MF_scaled, test_size=0.2, random_state=42\n",
        ")\n",
        "\n",
        "# Convert data to PyTorch tensors\n",
        "X_train_tensor = torch.FloatTensor(X_train)\n",
        "R_MF_train_tensor = torch.FloatTensor(R_MF_train)\n",
        "Q_MF_train_tensor = torch.FloatTensor(Q_MF_train)\n",
        "\n",
        "X_test_tensor = torch.FloatTensor(X_test)\n",
        "R_MF_test_tensor = torch.FloatTensor(R_MF_test)\n",
        "Q_MF_test_tensor = torch.FloatTensor(Q_MF_test)\n",
        "\n",
        "# Define the neural network model\n",
        "class SimpleANN(nn.Module):\n",
        "    def __init__(self, input_size):\n",
        "        super(SimpleANN, self).__init__()\n",
        "        self.fc1 = nn.Linear(input_size, 64)\n",
        "        self.relu = nn.ReLU()\n",
        "        self.fc2_R_MF = nn.Linear(64, 1)  # Output layer for R-MF\n",
        "        self.fc2_Q_MF = nn.Linear(64, 1)  # Output layer for Q-MF\n",
        "\n",
        "    def forward(self, x):\n",
        "        x = self.relu(self.fc1(x))\n",
        "        R_MF_output = self.fc2_R_MF(x)\n",
        "        Q_MF_output = self.fc2_Q_MF(x)\n",
        "        return R_MF_output, Q_MF_output\n",
        "\n",
        "# Instantiate the model\n",
        "input_size = X_train.shape[1]\n",
        "model = SimpleANN(input_size)\n",
        "\n",
        "# Define loss functions and optimizers for R-MF and Q-MF\n",
        "criterion_R_MF = nn.MSELoss()\n",
        "criterion_Q_MF = nn.MSELoss()\n",
        "optimizer = optim.Adam(model.parameters(), lr=0.001)\n",
        "\n",
        "# Training the model\n",
        "num_epochs = 1000\n",
        "\n",
        "for epoch in range(num_epochs):\n",
        "    # Forward pass\n",
        "    R_MF_output, Q_MF_output = model(X_train_tensor)\n",
        "    loss_R_MF = criterion_R_MF(R_MF_output, R_MF_train_tensor)\n",
        "    loss_Q_MF = criterion_Q_MF(Q_MF_output, Q_MF_train_tensor)\n",
        "    total_loss = loss_R_MF + loss_Q_MF\n",
        "\n",
        "    # Backward pass and optimization\n",
        "    optimizer.zero_grad()\n",
        "    total_loss.backward()\n",
        "    optimizer.step()\n",
        "\n",
        "    if (epoch + 1) % 100 == 0:\n",
        "        print(f'Epoch [{epoch+1}/{num_epochs}], R_MF Loss: {loss_R_MF.item():.4f}, Q_MF Loss: {loss_Q_MF.item():.4f}')\n",
        "\n",
        "# Testing the model\n",
        "with torch.no_grad():\n",
        "    model.eval()\n",
        "    R_MF_test_output, Q_MF_test_output = model(X_test_tensor)\n",
        "    test_loss_R_MF = criterion_R_MF(R_MF_test_output, R_MF_test_tensor)\n",
        "    test_loss_Q_MF = criterion_Q_MF(Q_MF_test_output, Q_MF_test_tensor)\n",
        "    print(f'Test R_MF Loss: {test_loss_R_MF.item():.4f}, Test Q_MF Loss: {test_loss_Q_MF.item():.4f}')\n"
      ],
      "metadata": {
        "id": "0R9YoirfYh6Q",
        "colab": {
          "base_uri": "https://localhost:8080/"
        },
        "outputId": "222e23e8-0d42-4d97-8849-32a0b5e03f58"
      },
      "execution_count": 5,
      "outputs": [
        {
          "output_type": "stream",
          "name": "stdout",
          "text": [
            "Epoch [100/1000], R_MF Loss: nan, Q_MF Loss: nan\n",
            "Epoch [200/1000], R_MF Loss: nan, Q_MF Loss: nan\n",
            "Epoch [300/1000], R_MF Loss: nan, Q_MF Loss: nan\n",
            "Epoch [400/1000], R_MF Loss: nan, Q_MF Loss: nan\n",
            "Epoch [500/1000], R_MF Loss: nan, Q_MF Loss: nan\n",
            "Epoch [600/1000], R_MF Loss: nan, Q_MF Loss: nan\n",
            "Epoch [700/1000], R_MF Loss: nan, Q_MF Loss: nan\n",
            "Epoch [800/1000], R_MF Loss: nan, Q_MF Loss: nan\n",
            "Epoch [900/1000], R_MF Loss: nan, Q_MF Loss: nan\n",
            "Epoch [1000/1000], R_MF Loss: nan, Q_MF Loss: nan\n",
            "Test R_MF Loss: nan, Test Q_MF Loss: nan\n"
          ]
        }
      ]
    }
  ]
}